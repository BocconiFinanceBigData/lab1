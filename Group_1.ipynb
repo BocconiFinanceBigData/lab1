{
 "cells": [
  {
   "cell_type": "markdown",
   "source": [
    "# PCLab#1 - Group 1 \n",
    "### Petter, Oskar, Johannes"
   ],
   "metadata": {
    "collapsed": false
   },
   "id": "7057a9f925ce0f73"
  },
  {
   "cell_type": "markdown",
   "source": [],
   "metadata": {
    "collapsed": false
   },
   "id": "3e16f3a9dec7b862"
  },
  {
   "cell_type": "code",
   "outputs": [],
   "source": [],
   "metadata": {
    "collapsed": false
   },
   "id": "405aa11d69880bf"
  }
 ],
 "metadata": {
  "kernelspec": {
   "display_name": "Python 3",
   "language": "python",
   "name": "python3"
  },
  "language_info": {
   "codemirror_mode": {
    "name": "ipython",
    "version": 2
   },
   "file_extension": ".py",
   "mimetype": "text/x-python",
   "name": "python",
   "nbconvert_exporter": "python",
   "pygments_lexer": "ipython2",
   "version": "2.7.6"
  }
 },
 "nbformat": 4,
 "nbformat_minor": 5
}
